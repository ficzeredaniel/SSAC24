{
 "cells": [
  {
   "cell_type": "code",
   "execution_count": 101,
   "id": "dd9e77e8",
   "metadata": {},
   "outputs": [],
   "source": [
    "# library\n",
    "library(ggridges)\n",
    "library(ggplot2)\n",
    "library(dplyr)\n",
    "library(reshape2)\n",
    "library(stringr)"
   ]
  },
  {
   "cell_type": "code",
   "execution_count": 137,
   "id": "7168a8c6",
   "metadata": {},
   "outputs": [],
   "source": [
    "ll_df <- read.csv(\"/storage/ficzere/results/ll_df.csv\", header = TRUE, sep = \",\")\n",
    "norm_f_df <- read.csv(\"/storage/ficzere/results/norm_factor_df.csv\", header = TRUE, sep = \",\")\n",
    "prob_stat_df <- read.csv(\"/storage/ficzere/results/prob_stat_df.csv\", header = TRUE, sep = \",\")"
   ]
  },
  {
   "cell_type": "code",
   "execution_count": 239,
   "id": "d33930b2",
   "metadata": {},
   "outputs": [],
   "source": [
    "colnames(ll_df)[1] = c('Soccer')"
   ]
  },
  {
   "cell_type": "code",
   "execution_count": 240,
   "id": "894142b4",
   "metadata": {},
   "outputs": [
    {
     "data": {
      "text/html": [
       "<style>\n",
       ".list-inline {list-style: none; margin:0; padding: 0}\n",
       ".list-inline>li {display: inline-block}\n",
       ".list-inline>li:not(:last-child)::after {content: \"\\00b7\"; padding: 0 .5ex}\n",
       "</style>\n",
       "<ol class=list-inline><li>1</li><li>2</li><li>3</li><li>4</li><li>5</li><li>6</li><li>7</li><li>8</li><li>9</li><li>10</li><li>11</li><li>12</li><li>13</li><li>14</li><li>15</li><li>16</li><li>17</li><li>18</li><li>19</li><li>20</li><li>21</li><li>22</li><li>23</li><li>24</li><li>25</li><li>26</li><li>27</li></ol>\n"
      ],
      "text/latex": [
       "\\begin{enumerate*}\n",
       "\\item 1\n",
       "\\item 2\n",
       "\\item 3\n",
       "\\item 4\n",
       "\\item 5\n",
       "\\item 6\n",
       "\\item 7\n",
       "\\item 8\n",
       "\\item 9\n",
       "\\item 10\n",
       "\\item 11\n",
       "\\item 12\n",
       "\\item 13\n",
       "\\item 14\n",
       "\\item 15\n",
       "\\item 16\n",
       "\\item 17\n",
       "\\item 18\n",
       "\\item 19\n",
       "\\item 20\n",
       "\\item 21\n",
       "\\item 22\n",
       "\\item 23\n",
       "\\item 24\n",
       "\\item 25\n",
       "\\item 26\n",
       "\\item 27\n",
       "\\end{enumerate*}\n"
      ],
      "text/markdown": [
       "1. 1\n",
       "2. 2\n",
       "3. 3\n",
       "4. 4\n",
       "5. 5\n",
       "6. 6\n",
       "7. 7\n",
       "8. 8\n",
       "9. 9\n",
       "10. 10\n",
       "11. 11\n",
       "12. 12\n",
       "13. 13\n",
       "14. 14\n",
       "15. 15\n",
       "16. 16\n",
       "17. 17\n",
       "18. 18\n",
       "19. 19\n",
       "20. 20\n",
       "21. 21\n",
       "22. 22\n",
       "23. 23\n",
       "24. 24\n",
       "25. 25\n",
       "26. 26\n",
       "27. 27\n",
       "\n",
       "\n"
      ],
      "text/plain": [
       " [1]  1  2  3  4  5  6  7  8  9 10 11 12 13 14 15 16 17 18 19 20 21 22 23 24 25\n",
       "[26] 26 27"
      ]
     },
     "metadata": {},
     "output_type": "display_data"
    }
   ],
   "source": [
    "mns <- colMeans(ll_df, na.rm=TRUE)\n",
    "order(mns)\n",
    "ll_df <- ll_df[,order(mns)]"
   ]
  },
  {
   "cell_type": "code",
   "execution_count": 241,
   "id": "6fab2f1b",
   "metadata": {
    "scrolled": false
   },
   "outputs": [
    {
     "data": {
      "text/html": [
       "<table class=\"dataframe\">\n",
       "<caption>A data.frame: 6 × 3</caption>\n",
       "<thead>\n",
       "\t<tr><th></th><th scope=col>X</th><th scope=col>Sport</th><th scope=col>logprobability</th></tr>\n",
       "\t<tr><th></th><th scope=col>&lt;int&gt;</th><th scope=col>&lt;fct&gt;</th><th scope=col>&lt;dbl&gt;</th></tr>\n",
       "</thead>\n",
       "<tbody>\n",
       "\t<tr><th scope=row>2595</th><td>94</td><td>Badminton</td><td>-462.5266</td></tr>\n",
       "\t<tr><th scope=row>2596</th><td>95</td><td>Badminton</td><td>-454.0812</td></tr>\n",
       "\t<tr><th scope=row>2597</th><td>96</td><td>Badminton</td><td>-456.4558</td></tr>\n",
       "\t<tr><th scope=row>2598</th><td>97</td><td>Badminton</td><td>-483.8365</td></tr>\n",
       "\t<tr><th scope=row>2599</th><td>98</td><td>Badminton</td><td>-474.5933</td></tr>\n",
       "\t<tr><th scope=row>2600</th><td>99</td><td>Badminton</td><td>-482.0919</td></tr>\n",
       "</tbody>\n",
       "</table>\n"
      ],
      "text/latex": [
       "A data.frame: 6 × 3\n",
       "\\begin{tabular}{r|lll}\n",
       "  & X & Sport & logprobability\\\\\n",
       "  & <int> & <fct> & <dbl>\\\\\n",
       "\\hline\n",
       "\t2595 & 94 & Badminton & -462.5266\\\\\n",
       "\t2596 & 95 & Badminton & -454.0812\\\\\n",
       "\t2597 & 96 & Badminton & -456.4558\\\\\n",
       "\t2598 & 97 & Badminton & -483.8365\\\\\n",
       "\t2599 & 98 & Badminton & -474.5933\\\\\n",
       "\t2600 & 99 & Badminton & -482.0919\\\\\n",
       "\\end{tabular}\n"
      ],
      "text/markdown": [
       "\n",
       "A data.frame: 6 × 3\n",
       "\n",
       "| <!--/--> | X &lt;int&gt; | Sport &lt;fct&gt; | logprobability &lt;dbl&gt; |\n",
       "|---|---|---|---|\n",
       "| 2595 | 94 | Badminton | -462.5266 |\n",
       "| 2596 | 95 | Badminton | -454.0812 |\n",
       "| 2597 | 96 | Badminton | -456.4558 |\n",
       "| 2598 | 97 | Badminton | -483.8365 |\n",
       "| 2599 | 98 | Badminton | -474.5933 |\n",
       "| 2600 | 99 | Badminton | -482.0919 |\n",
       "\n"
      ],
      "text/plain": [
       "     X  Sport     logprobability\n",
       "2595 94 Badminton -462.5266     \n",
       "2596 95 Badminton -454.0812     \n",
       "2597 96 Badminton -456.4558     \n",
       "2598 97 Badminton -483.8365     \n",
       "2599 98 Badminton -474.5933     \n",
       "2600 99 Badminton -482.0919     "
      ]
     },
     "metadata": {},
     "output_type": "display_data"
    }
   ],
   "source": [
    "ll_melt <- melt(ll_df, id = 'X')\n",
    "colnames(ll_melt) <- c('X', 'Sport', 'logprobability')\n",
    "ll_melt$Sport <- str_replace_all(ll_melt$Sport,'\\\\.',' ')\n",
    "ll_melt$Sport<-factor(ll_melt$Sport,unique(ll_melt$Sport))\n",
    "tail(ll_melt)"
   ]
  },
  {
   "cell_type": "code",
   "execution_count": 245,
   "id": "49a93657",
   "metadata": {},
   "outputs": [
    {
     "name": "stderr",
     "output_type": "stream",
     "text": [
      "Picking joint bandwidth of 5.16\n",
      "\n"
     ]
    },
    {
     "data": {
      "image/png": "[encoded data removed]",
      "text/plain": [
       "plot without title"
      ]
     },
     "metadata": {
      "image/png": {
       "height": 360,
       "width": 480
      }
     },
     "output_type": "display_data"
    }
   ],
   "source": [
    "# basic example\n",
    "options(repr.plot.width = 8, repr.plot.height =6)\n",
    "ggplot(ll_melt, aes(x = logprobability, y = Sport)) +\n",
    "  geom_density_ridges() +\n",
    "  theme_ridges() + \n",
    "  theme(legend.position = \"none\") +\n",
    "    labs(x = \"Log-probability\")"
   ]
  },
  {
   "cell_type": "code",
   "execution_count": 138,
   "id": "2ea5eadd",
   "metadata": {},
   "outputs": [
    {
     "data": {
      "text/html": [
       "<table class=\"dataframe\">\n",
       "<caption>A data.frame: 6 × 9</caption>\n",
       "<thead>\n",
       "\t<tr><th></th><th scope=col>X</th><th scope=col>count</th><th scope=col>mean</th><th scope=col>std</th><th scope=col>min</th><th scope=col>X25.</th><th scope=col>X50.</th><th scope=col>X75.</th><th scope=col>max</th></tr>\n",
       "\t<tr><th></th><th scope=col>&lt;chr&gt;</th><th scope=col>&lt;dbl&gt;</th><th scope=col>&lt;dbl&gt;</th><th scope=col>&lt;dbl&gt;</th><th scope=col>&lt;dbl&gt;</th><th scope=col>&lt;dbl&gt;</th><th scope=col>&lt;dbl&gt;</th><th scope=col>&lt;dbl&gt;</th><th scope=col>&lt;dbl&gt;</th></tr>\n",
       "</thead>\n",
       "<tbody>\n",
       "\t<tr><th scope=row>1</th><td>American football</td><td> 17981</td><td>1.049337</td><td>0.01290421</td><td>0.4626490</td><td>1.044196</td><td>1.048646</td><td>1.053274</td><td>1.247563</td></tr>\n",
       "\t<tr><th scope=row>2</th><td>Aussie rules     </td><td>  7086</td><td>1.063090</td><td>0.01090497</td><td>1.0144742</td><td>1.056452</td><td>1.061681</td><td>1.069773</td><td>1.178755</td></tr>\n",
       "\t<tr><th scope=row>3</th><td>Badminton        </td><td> 46124</td><td>1.068979</td><td>0.01269865</td><td>0.7788162</td><td>1.062937</td><td>1.070621</td><td>1.077193</td><td>1.258716</td></tr>\n",
       "\t<tr><th scope=row>4</th><td>Bandy            </td><td> 12042</td><td>1.096890</td><td>0.02406631</td><td>0.1757326</td><td>1.087435</td><td>1.095047</td><td>1.107843</td><td>1.232692</td></tr>\n",
       "\t<tr><th scope=row>5</th><td>Baseball         </td><td>116509</td><td>1.056448</td><td>0.01402620</td><td>0.3708472</td><td>1.045527</td><td>1.056185</td><td>1.066017</td><td>1.262448</td></tr>\n",
       "\t<tr><th scope=row>6</th><td>Basketball       </td><td>208159</td><td>1.067953</td><td>0.01468266</td><td>0.3435817</td><td>1.061195</td><td>1.068849</td><td>1.075979</td><td>1.250000</td></tr>\n",
       "</tbody>\n",
       "</table>\n"
      ],
      "text/latex": [
       "A data.frame: 6 × 9\n",
       "\\begin{tabular}{r|lllllllll}\n",
       "  & X & count & mean & std & min & X25. & X50. & X75. & max\\\\\n",
       "  & <chr> & <dbl> & <dbl> & <dbl> & <dbl> & <dbl> & <dbl> & <dbl> & <dbl>\\\\\n",
       "\\hline\n",
       "\t1 & American football &  17981 & 1.049337 & 0.01290421 & 0.4626490 & 1.044196 & 1.048646 & 1.053274 & 1.247563\\\\\n",
       "\t2 & Aussie rules      &   7086 & 1.063090 & 0.01090497 & 1.0144742 & 1.056452 & 1.061681 & 1.069773 & 1.178755\\\\\n",
       "\t3 & Badminton         &  46124 & 1.068979 & 0.01269865 & 0.7788162 & 1.062937 & 1.070621 & 1.077193 & 1.258716\\\\\n",
       "\t4 & Bandy             &  12042 & 1.096890 & 0.02406631 & 0.1757326 & 1.087435 & 1.095047 & 1.107843 & 1.232692\\\\\n",
       "\t5 & Baseball          & 116509 & 1.056448 & 0.01402620 & 0.3708472 & 1.045527 & 1.056185 & 1.066017 & 1.262448\\\\\n",
       "\t6 & Basketball        & 208159 & 1.067953 & 0.01468266 & 0.3435817 & 1.061195 & 1.068849 & 1.075979 & 1.250000\\\\\n",
       "\\end{tabular}\n"
      ],
      "text/markdown": [
       "\n",
       "A data.frame: 6 × 9\n",
       "\n",
       "| <!--/--> | X &lt;chr&gt; | count &lt;dbl&gt; | mean &lt;dbl&gt; | std &lt;dbl&gt; | min &lt;dbl&gt; | X25. &lt;dbl&gt; | X50. &lt;dbl&gt; | X75. &lt;dbl&gt; | max &lt;dbl&gt; |\n",
       "|---|---|---|---|---|---|---|---|---|---|\n",
       "| 1 | American football |  17981 | 1.049337 | 0.01290421 | 0.4626490 | 1.044196 | 1.048646 | 1.053274 | 1.247563 |\n",
       "| 2 | Aussie rules      |   7086 | 1.063090 | 0.01090497 | 1.0144742 | 1.056452 | 1.061681 | 1.069773 | 1.178755 |\n",
       "| 3 | Badminton         |  46124 | 1.068979 | 0.01269865 | 0.7788162 | 1.062937 | 1.070621 | 1.077193 | 1.258716 |\n",
       "| 4 | Bandy             |  12042 | 1.096890 | 0.02406631 | 0.1757326 | 1.087435 | 1.095047 | 1.107843 | 1.232692 |\n",
       "| 5 | Baseball          | 116509 | 1.056448 | 0.01402620 | 0.3708472 | 1.045527 | 1.056185 | 1.066017 | 1.262448 |\n",
       "| 6 | Basketball        | 208159 | 1.067953 | 0.01468266 | 0.3435817 | 1.061195 | 1.068849 | 1.075979 | 1.250000 |\n",
       "\n"
      ],
      "text/plain": [
       "  X                 count  mean     std        min       X25.     X50.    \n",
       "1 American football  17981 1.049337 0.01290421 0.4626490 1.044196 1.048646\n",
       "2 Aussie rules        7086 1.063090 0.01090497 1.0144742 1.056452 1.061681\n",
       "3 Badminton          46124 1.068979 0.01269865 0.7788162 1.062937 1.070621\n",
       "4 Bandy              12042 1.096890 0.02406631 0.1757326 1.087435 1.095047\n",
       "5 Baseball          116509 1.056448 0.01402620 0.3708472 1.045527 1.056185\n",
       "6 Basketball        208159 1.067953 0.01468266 0.3435817 1.061195 1.068849\n",
       "  X75.     max     \n",
       "1 1.053274 1.247563\n",
       "2 1.069773 1.178755\n",
       "3 1.077193 1.258716\n",
       "4 1.107843 1.232692\n",
       "5 1.066017 1.262448\n",
       "6 1.075979 1.250000"
      ]
     },
     "metadata": {},
     "output_type": "display_data"
    },
    {
     "data": {
      "text/html": [
       "<table class=\"dataframe\">\n",
       "<caption>A data.frame: 6 × 10</caption>\n",
       "<thead>\n",
       "\t<tr><th></th><th scope=col>X</th><th scope=col>count</th><th scope=col>mean</th><th scope=col>std</th><th scope=col>min</th><th scope=col>X25.</th><th scope=col>X50.</th><th scope=col>X75.</th><th scope=col>max</th><th scope=col>median</th></tr>\n",
       "\t<tr><th></th><th scope=col>&lt;chr&gt;</th><th scope=col>&lt;dbl&gt;</th><th scope=col>&lt;dbl&gt;</th><th scope=col>&lt;dbl&gt;</th><th scope=col>&lt;dbl&gt;</th><th scope=col>&lt;dbl&gt;</th><th scope=col>&lt;dbl&gt;</th><th scope=col>&lt;dbl&gt;</th><th scope=col>&lt;dbl&gt;</th><th scope=col>&lt;dbl&gt;</th></tr>\n",
       "</thead>\n",
       "<tbody>\n",
       "\t<tr><th scope=row>1</th><td>American football</td><td> 18033</td><td>-536.4141</td><td>14.206946</td><td>-565.7223</td><td>-546.0071</td><td>-536.3910</td><td>-528.3436</td><td>-500.8386</td><td>-536.3910</td></tr>\n",
       "\t<tr><th scope=row>2</th><td>Aussie rules     </td><td>  7097</td><td>-558.0460</td><td>15.277871</td><td>-602.8391</td><td>-569.0223</td><td>-556.3480</td><td>-547.5965</td><td>-527.6547</td><td>-556.3480</td></tr>\n",
       "\t<tr><th scope=row>3</th><td>Badminton        </td><td> 46355</td><td>-468.6815</td><td>15.298671</td><td>-508.1293</td><td>-482.0722</td><td>-466.7795</td><td>-457.9502</td><td>-437.0794</td><td>-466.7795</td></tr>\n",
       "\t<tr><th scope=row>4</th><td>Bandy            </td><td> 12045</td><td>-729.5171</td><td>17.662780</td><td>-764.0672</td><td>-742.7184</td><td>-729.5411</td><td>-719.1203</td><td>-685.6103</td><td>-729.5411</td></tr>\n",
       "\t<tr><th scope=row>5</th><td>Baseball         </td><td>117155</td><td>-668.4191</td><td> 6.273809</td><td>-683.3741</td><td>-672.9621</td><td>-667.5250</td><td>-664.1170</td><td>-654.8616</td><td>-667.5250</td></tr>\n",
       "\t<tr><th scope=row>6</th><td>Basketball       </td><td>208434</td><td>-535.2776</td><td>14.932480</td><td>-570.9626</td><td>-545.4970</td><td>-534.3069</td><td>-525.9085</td><td>-495.0330</td><td>-534.3069</td></tr>\n",
       "</tbody>\n",
       "</table>\n"
      ],
      "text/latex": [
       "A data.frame: 6 × 10\n",
       "\\begin{tabular}{r|llllllllll}\n",
       "  & X & count & mean & std & min & X25. & X50. & X75. & max & median\\\\\n",
       "  & <chr> & <dbl> & <dbl> & <dbl> & <dbl> & <dbl> & <dbl> & <dbl> & <dbl> & <dbl>\\\\\n",
       "\\hline\n",
       "\t1 & American football &  18033 & -536.4141 & 14.206946 & -565.7223 & -546.0071 & -536.3910 & -528.3436 & -500.8386 & -536.3910\\\\\n",
       "\t2 & Aussie rules      &   7097 & -558.0460 & 15.277871 & -602.8391 & -569.0223 & -556.3480 & -547.5965 & -527.6547 & -556.3480\\\\\n",
       "\t3 & Badminton         &  46355 & -468.6815 & 15.298671 & -508.1293 & -482.0722 & -466.7795 & -457.9502 & -437.0794 & -466.7795\\\\\n",
       "\t4 & Bandy             &  12045 & -729.5171 & 17.662780 & -764.0672 & -742.7184 & -729.5411 & -719.1203 & -685.6103 & -729.5411\\\\\n",
       "\t5 & Baseball          & 117155 & -668.4191 &  6.273809 & -683.3741 & -672.9621 & -667.5250 & -664.1170 & -654.8616 & -667.5250\\\\\n",
       "\t6 & Basketball        & 208434 & -535.2776 & 14.932480 & -570.9626 & -545.4970 & -534.3069 & -525.9085 & -495.0330 & -534.3069\\\\\n",
       "\\end{tabular}\n"
      ],
      "text/markdown": [
       "\n",
       "A data.frame: 6 × 10\n",
       "\n",
       "| <!--/--> | X &lt;chr&gt; | count &lt;dbl&gt; | mean &lt;dbl&gt; | std &lt;dbl&gt; | min &lt;dbl&gt; | X25. &lt;dbl&gt; | X50. &lt;dbl&gt; | X75. &lt;dbl&gt; | max &lt;dbl&gt; | median &lt;dbl&gt; |\n",
       "|---|---|---|---|---|---|---|---|---|---|---|\n",
       "| 1 | American football |  18033 | -536.4141 | 14.206946 | -565.7223 | -546.0071 | -536.3910 | -528.3436 | -500.8386 | -536.3910 |\n",
       "| 2 | Aussie rules      |   7097 | -558.0460 | 15.277871 | -602.8391 | -569.0223 | -556.3480 | -547.5965 | -527.6547 | -556.3480 |\n",
       "| 3 | Badminton         |  46355 | -468.6815 | 15.298671 | -508.1293 | -482.0722 | -466.7795 | -457.9502 | -437.0794 | -466.7795 |\n",
       "| 4 | Bandy             |  12045 | -729.5171 | 17.662780 | -764.0672 | -742.7184 | -729.5411 | -719.1203 | -685.6103 | -729.5411 |\n",
       "| 5 | Baseball          | 117155 | -668.4191 |  6.273809 | -683.3741 | -672.9621 | -667.5250 | -664.1170 | -654.8616 | -667.5250 |\n",
       "| 6 | Basketball        | 208434 | -535.2776 | 14.932480 | -570.9626 | -545.4970 | -534.3069 | -525.9085 | -495.0330 | -534.3069 |\n",
       "\n"
      ],
      "text/plain": [
       "  X                 count  mean      std       min       X25.      X50.     \n",
       "1 American football  18033 -536.4141 14.206946 -565.7223 -546.0071 -536.3910\n",
       "2 Aussie rules        7097 -558.0460 15.277871 -602.8391 -569.0223 -556.3480\n",
       "3 Badminton          46355 -468.6815 15.298671 -508.1293 -482.0722 -466.7795\n",
       "4 Bandy              12045 -729.5171 17.662780 -764.0672 -742.7184 -729.5411\n",
       "5 Baseball          117155 -668.4191  6.273809 -683.3741 -672.9621 -667.5250\n",
       "6 Basketball        208434 -535.2776 14.932480 -570.9626 -545.4970 -534.3069\n",
       "  X75.      max       median   \n",
       "1 -528.3436 -500.8386 -536.3910\n",
       "2 -547.5965 -527.6547 -556.3480\n",
       "3 -457.9502 -437.0794 -466.7795\n",
       "4 -719.1203 -685.6103 -729.5411\n",
       "5 -664.1170 -654.8616 -667.5250\n",
       "6 -525.9085 -495.0330 -534.3069"
      ]
     },
     "metadata": {},
     "output_type": "display_data"
    }
   ],
   "source": [
    "head(norm_f_df)\n",
    "head(prob_stat_df)"
   ]
  },
  {
   "cell_type": "code",
   "execution_count": 228,
   "id": "6ae85145",
   "metadata": {},
   "outputs": [
    {
     "data": {
      "text/html": [
       "<table class=\"dataframe\">\n",
       "<caption>A data.frame: 26 × 5</caption>\n",
       "<thead>\n",
       "\t<tr><th scope=col>sport</th><th scope=col>norm_median</th><th scope=col>prob</th><th scope=col>norm_25</th><th scope=col>norm_75</th></tr>\n",
       "\t<tr><th scope=col>&lt;chr&gt;</th><th scope=col>&lt;dbl&gt;</th><th scope=col>&lt;dbl&gt;</th><th scope=col>&lt;dbl&gt;</th><th scope=col>&lt;dbl&gt;</th></tr>\n",
       "</thead>\n",
       "<tbody>\n",
       "\t<tr><td>American football</td><td>1.048646</td><td>-536.4141</td><td>1.044196</td><td>1.053274</td></tr>\n",
       "\t<tr><td>Aussie rules     </td><td>1.061681</td><td>-558.0460</td><td>1.056452</td><td>1.069773</td></tr>\n",
       "\t<tr><td>Badminton        </td><td>1.070621</td><td>-468.6815</td><td>1.062937</td><td>1.077193</td></tr>\n",
       "\t<tr><td>Bandy            </td><td>1.095047</td><td>-729.5171</td><td>1.087435</td><td>1.107843</td></tr>\n",
       "\t<tr><td>Baseball         </td><td>1.056185</td><td>-668.4191</td><td>1.045527</td><td>1.066017</td></tr>\n",
       "\t<tr><td>Basketball       </td><td>1.068849</td><td>-535.2776</td><td>1.061195</td><td>1.075979</td></tr>\n",
       "\t<tr><td>Beach soccer     </td><td>1.093981</td><td>-637.3391</td><td>1.081694</td><td>1.099475</td></tr>\n",
       "\t<tr><td>Beach volleyball </td><td>1.077818</td><td>-551.4673</td><td>1.070231</td><td>1.085548</td></tr>\n",
       "\t<tr><td>Boxing           </td><td>1.091150</td><td>-499.0741</td><td>1.079517</td><td>1.101815</td></tr>\n",
       "\t<tr><td>Cricket          </td><td>1.060021</td><td>-597.7889</td><td>1.055329</td><td>1.066389</td></tr>\n",
       "\t<tr><td>Darts            </td><td>1.068280</td><td>-617.6138</td><td>1.059926</td><td>1.073672</td></tr>\n",
       "\t<tr><td>Floorball        </td><td>1.105764</td><td>-698.9550</td><td>1.095029</td><td>1.114159</td></tr>\n",
       "\t<tr><td>Soccer           </td><td>1.092712</td><td>-970.4505</td><td>1.080494</td><td>1.108018</td></tr>\n",
       "\t<tr><td>Futsal           </td><td>1.099017</td><td>-817.2628</td><td>1.092049</td><td>1.110579</td></tr>\n",
       "\t<tr><td>Handball         </td><td>1.099034</td><td>-669.9748</td><td>1.089631</td><td>1.111828</td></tr>\n",
       "\t<tr><td>Hockey           </td><td>1.091180</td><td>-841.1859</td><td>1.076487</td><td>1.102013</td></tr>\n",
       "\t<tr><td>MMA              </td><td>1.053954</td><td>-587.5436</td><td>1.049367</td><td>1.060084</td></tr>\n",
       "\t<tr><td>Pesäpallo        </td><td>1.110959</td><td>-835.4063</td><td>1.103636</td><td>1.118619</td></tr>\n",
       "\t<tr><td>Rugby League     </td><td>1.089167</td><td>-642.9808</td><td>1.082685</td><td>1.098577</td></tr>\n",
       "\t<tr><td>Rugby Union      </td><td>1.089226</td><td>-602.0063</td><td>1.082590</td><td>1.097324</td></tr>\n",
       "\t<tr><td>Snooker          </td><td>1.061075</td><td>-585.6733</td><td>1.055024</td><td>1.067484</td></tr>\n",
       "\t<tr><td>Table tennis     </td><td>1.080247</td><td>-639.0535</td><td>1.075973</td><td>1.085947</td></tr>\n",
       "\t<tr><td>Tennis           </td><td>1.074123</td><td>-573.5725</td><td>1.065179</td><td>1.080247</td></tr>\n",
       "\t<tr><td>Volleyball       </td><td>1.071283</td><td>-476.0566</td><td>1.064498</td><td>1.078582</td></tr>\n",
       "\t<tr><td>Water polo       </td><td>1.099998</td><td>-592.0822</td><td>1.091176</td><td>1.109381</td></tr>\n",
       "\t<tr><td>eSports          </td><td>1.064776</td><td>-578.1265</td><td>1.059571</td><td>1.069969</td></tr>\n",
       "</tbody>\n",
       "</table>\n"
      ],
      "text/latex": [
       "A data.frame: 26 × 5\n",
       "\\begin{tabular}{lllll}\n",
       " sport & norm\\_median & prob & norm\\_25 & norm\\_75\\\\\n",
       " <chr> & <dbl> & <dbl> & <dbl> & <dbl>\\\\\n",
       "\\hline\n",
       "\t American football & 1.048646 & -536.4141 & 1.044196 & 1.053274\\\\\n",
       "\t Aussie rules      & 1.061681 & -558.0460 & 1.056452 & 1.069773\\\\\n",
       "\t Badminton         & 1.070621 & -468.6815 & 1.062937 & 1.077193\\\\\n",
       "\t Bandy             & 1.095047 & -729.5171 & 1.087435 & 1.107843\\\\\n",
       "\t Baseball          & 1.056185 & -668.4191 & 1.045527 & 1.066017\\\\\n",
       "\t Basketball        & 1.068849 & -535.2776 & 1.061195 & 1.075979\\\\\n",
       "\t Beach soccer      & 1.093981 & -637.3391 & 1.081694 & 1.099475\\\\\n",
       "\t Beach volleyball  & 1.077818 & -551.4673 & 1.070231 & 1.085548\\\\\n",
       "\t Boxing            & 1.091150 & -499.0741 & 1.079517 & 1.101815\\\\\n",
       "\t Cricket           & 1.060021 & -597.7889 & 1.055329 & 1.066389\\\\\n",
       "\t Darts             & 1.068280 & -617.6138 & 1.059926 & 1.073672\\\\\n",
       "\t Floorball         & 1.105764 & -698.9550 & 1.095029 & 1.114159\\\\\n",
       "\t Soccer            & 1.092712 & -970.4505 & 1.080494 & 1.108018\\\\\n",
       "\t Futsal            & 1.099017 & -817.2628 & 1.092049 & 1.110579\\\\\n",
       "\t Handball          & 1.099034 & -669.9748 & 1.089631 & 1.111828\\\\\n",
       "\t Hockey            & 1.091180 & -841.1859 & 1.076487 & 1.102013\\\\\n",
       "\t MMA               & 1.053954 & -587.5436 & 1.049367 & 1.060084\\\\\n",
       "\t Pesäpallo         & 1.110959 & -835.4063 & 1.103636 & 1.118619\\\\\n",
       "\t Rugby League      & 1.089167 & -642.9808 & 1.082685 & 1.098577\\\\\n",
       "\t Rugby Union       & 1.089226 & -602.0063 & 1.082590 & 1.097324\\\\\n",
       "\t Snooker           & 1.061075 & -585.6733 & 1.055024 & 1.067484\\\\\n",
       "\t Table tennis      & 1.080247 & -639.0535 & 1.075973 & 1.085947\\\\\n",
       "\t Tennis            & 1.074123 & -573.5725 & 1.065179 & 1.080247\\\\\n",
       "\t Volleyball        & 1.071283 & -476.0566 & 1.064498 & 1.078582\\\\\n",
       "\t Water polo        & 1.099998 & -592.0822 & 1.091176 & 1.109381\\\\\n",
       "\t eSports           & 1.064776 & -578.1265 & 1.059571 & 1.069969\\\\\n",
       "\\end{tabular}\n"
      ],
      "text/markdown": [
       "\n",
       "A data.frame: 26 × 5\n",
       "\n",
       "| sport &lt;chr&gt; | norm_median &lt;dbl&gt; | prob &lt;dbl&gt; | norm_25 &lt;dbl&gt; | norm_75 &lt;dbl&gt; |\n",
       "|---|---|---|---|---|\n",
       "| American football | 1.048646 | -536.4141 | 1.044196 | 1.053274 |\n",
       "| Aussie rules      | 1.061681 | -558.0460 | 1.056452 | 1.069773 |\n",
       "| Badminton         | 1.070621 | -468.6815 | 1.062937 | 1.077193 |\n",
       "| Bandy             | 1.095047 | -729.5171 | 1.087435 | 1.107843 |\n",
       "| Baseball          | 1.056185 | -668.4191 | 1.045527 | 1.066017 |\n",
       "| Basketball        | 1.068849 | -535.2776 | 1.061195 | 1.075979 |\n",
       "| Beach soccer      | 1.093981 | -637.3391 | 1.081694 | 1.099475 |\n",
       "| Beach volleyball  | 1.077818 | -551.4673 | 1.070231 | 1.085548 |\n",
       "| Boxing            | 1.091150 | -499.0741 | 1.079517 | 1.101815 |\n",
       "| Cricket           | 1.060021 | -597.7889 | 1.055329 | 1.066389 |\n",
       "| Darts             | 1.068280 | -617.6138 | 1.059926 | 1.073672 |\n",
       "| Floorball         | 1.105764 | -698.9550 | 1.095029 | 1.114159 |\n",
       "| Soccer            | 1.092712 | -970.4505 | 1.080494 | 1.108018 |\n",
       "| Futsal            | 1.099017 | -817.2628 | 1.092049 | 1.110579 |\n",
       "| Handball          | 1.099034 | -669.9748 | 1.089631 | 1.111828 |\n",
       "| Hockey            | 1.091180 | -841.1859 | 1.076487 | 1.102013 |\n",
       "| MMA               | 1.053954 | -587.5436 | 1.049367 | 1.060084 |\n",
       "| Pesäpallo         | 1.110959 | -835.4063 | 1.103636 | 1.118619 |\n",
       "| Rugby League      | 1.089167 | -642.9808 | 1.082685 | 1.098577 |\n",
       "| Rugby Union       | 1.089226 | -602.0063 | 1.082590 | 1.097324 |\n",
       "| Snooker           | 1.061075 | -585.6733 | 1.055024 | 1.067484 |\n",
       "| Table tennis      | 1.080247 | -639.0535 | 1.075973 | 1.085947 |\n",
       "| Tennis            | 1.074123 | -573.5725 | 1.065179 | 1.080247 |\n",
       "| Volleyball        | 1.071283 | -476.0566 | 1.064498 | 1.078582 |\n",
       "| Water polo        | 1.099998 | -592.0822 | 1.091176 | 1.109381 |\n",
       "| eSports           | 1.064776 | -578.1265 | 1.059571 | 1.069969 |\n",
       "\n"
      ],
      "text/plain": [
       "   sport             norm_median prob      norm_25  norm_75 \n",
       "1  American football 1.048646    -536.4141 1.044196 1.053274\n",
       "2  Aussie rules      1.061681    -558.0460 1.056452 1.069773\n",
       "3  Badminton         1.070621    -468.6815 1.062937 1.077193\n",
       "4  Bandy             1.095047    -729.5171 1.087435 1.107843\n",
       "5  Baseball          1.056185    -668.4191 1.045527 1.066017\n",
       "6  Basketball        1.068849    -535.2776 1.061195 1.075979\n",
       "7  Beach soccer      1.093981    -637.3391 1.081694 1.099475\n",
       "8  Beach volleyball  1.077818    -551.4673 1.070231 1.085548\n",
       "9  Boxing            1.091150    -499.0741 1.079517 1.101815\n",
       "10 Cricket           1.060021    -597.7889 1.055329 1.066389\n",
       "11 Darts             1.068280    -617.6138 1.059926 1.073672\n",
       "12 Floorball         1.105764    -698.9550 1.095029 1.114159\n",
       "13 Soccer            1.092712    -970.4505 1.080494 1.108018\n",
       "14 Futsal            1.099017    -817.2628 1.092049 1.110579\n",
       "15 Handball          1.099034    -669.9748 1.089631 1.111828\n",
       "16 Hockey            1.091180    -841.1859 1.076487 1.102013\n",
       "17 MMA               1.053954    -587.5436 1.049367 1.060084\n",
       "18 Pesäpallo         1.110959    -835.4063 1.103636 1.118619\n",
       "19 Rugby League      1.089167    -642.9808 1.082685 1.098577\n",
       "20 Rugby Union       1.089226    -602.0063 1.082590 1.097324\n",
       "21 Snooker           1.061075    -585.6733 1.055024 1.067484\n",
       "22 Table tennis      1.080247    -639.0535 1.075973 1.085947\n",
       "23 Tennis            1.074123    -573.5725 1.065179 1.080247\n",
       "24 Volleyball        1.071283    -476.0566 1.064498 1.078582\n",
       "25 Water polo        1.099998    -592.0822 1.091176 1.109381\n",
       "26 eSports           1.064776    -578.1265 1.059571 1.069969"
      ]
     },
     "metadata": {},
     "output_type": "display_data"
    }
   ],
   "source": [
    "plot_df <- data.frame(norm_f_df$X, norm_f_df$X50., prob_stat_df$mean, norm_f_df$X25., norm_f_df$X75.)\n",
    "colnames(plot_df) = c('sport', 'norm_median', 'prob', 'norm_25', 'norm_75')\n",
    "plot_df[13,1] = c('Soccer')\n",
    "plot_df"
   ]
  },
  {
   "cell_type": "code",
   "execution_count": 231,
   "id": "c47aa98b",
   "metadata": {},
   "outputs": [],
   "source": [
    "#install.packages(\"ggrepel\")\n",
    "library(\"ggrepel\")"
   ]
  },
  {
   "cell_type": "code",
   "execution_count": 232,
   "id": "a2ffc99b",
   "metadata": {},
   "outputs": [
    {
     "data": {
      "image/png": "[encoded data removed]",
      "text/plain": [
       "plot without title"
      ]
     },
     "metadata": {
      "image/png": {
       "height": 360,
       "width": 600
      }
     },
     "output_type": "display_data"
    }
   ],
   "source": [
    "options(repr.plot.width = 10, repr.plot.height =6)\n",
    "\n",
    "p<- ggplot(data = plot_df, aes(x = prob, y = norm_median, label = sport)) + \n",
    "    theme_bw() +\n",
    "  geom_point() +\n",
    " #geom_pointrange(aes(ymin=norm_25, ymax=norm_75))\n",
    "    geom_errorbar(aes(ymin=norm_25, ymax=norm_75), width=20, alpha = 0.5) +\n",
    "    labs(x = \"Log-probability\", y=\"Normalization factor\") +\n",
    "    geom_text_repel(aes(label = sport), size = 4)\n",
    "    \n",
    "print(p)\n",
    "#geom_text(position=position_jitter(width=0,height=0.005))"
   ]
  },
  {
   "cell_type": "code",
   "execution_count": null,
   "id": "7ef97e4f",
   "metadata": {},
   "outputs": [],
   "source": []
  }
 ],
 "metadata": {
  "kernelspec": {
   "display_name": "R",
   "language": "R",
   "name": "ir"
  },
  "language_info": {
   "codemirror_mode": "r",
   "file_extension": ".r",
   "mimetype": "text/x-r-source",
   "name": "R",
   "pygments_lexer": "r",
   "version": "4.1.1"
  }
 },
 "nbformat": 4,
 "nbformat_minor": 5
}
